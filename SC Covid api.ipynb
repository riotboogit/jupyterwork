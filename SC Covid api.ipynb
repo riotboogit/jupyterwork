{
 "cells": [
  {
   "cell_type": "code",
   "execution_count": 19,
   "metadata": {},
   "outputs": [
    {
     "name": "stdout",
     "output_type": "stream",
     "text": [
      "200\n"
     ]
    }
   ],
   "source": [
    "import json\n",
    "import requests\n",
    "import pandas as pd\n",
    "#need for parsing\n",
    "from pandas.io.json import json_normalize  \n",
    "sc_api_url = \"https://covidtracking.com/api/v1/states/sc/current.json\"\n",
    "response = requests.get(sc_api_url)\n",
    "data = response.json()\n",
    "#make sure the endpoint is ok\n",
    "print(response.status_code)"
   ]
  },
  {
   "cell_type": "code",
   "execution_count": 12,
   "metadata": {},
   "outputs": [
    {
     "name": "stdout",
     "output_type": "stream",
     "text": [
      "b'{\"date\":20200616,\"state\":\"SC\",\"positive\":19990,\"negative\":247689,\"pending\":null,\"hospitalizedCurrently\":571,\"hospitalizedCumulative\":2055,\"inIcuCurrently\":null,\"inIcuCumulative\":null,\"onVentilatorCurrently\":null,\"onVentilatorCumulative\":null,\"recovered\":9734,\"dataQualityGrade\":\"A\",\"lastUpdateEt\":\"6/15/2020 23:59\",\"dateModified\":\"2020-06-15T23:59:00Z\",\"checkTimeEt\":\"06/15 19:59\",\"death\":607,\"hospitalized\":2055,\"dateChecked\":\"2020-06-15T23:59:00Z\",\"totalTestsViral\":267679,\"positiveTestsViral\":27086,\"negativeTestsViral\":240593,\"positiveCasesViral\":19990,\"fips\":\"45\",\"positiveIncrease\":612,\"negativeIncrease\":11510,\"total\":267679,\"totalTestResults\":267679,\"totalTestResultsIncrease\":12122,\"posNeg\":267679,\"deathIncrease\":5,\"hospitalizedIncrease\":67,\"hash\":\"7633ce6fb38002bcbc0888acb1214f789e31adb9\",\"commercialScore\":0,\"negativeRegularScore\":0,\"negativeScore\":0,\"positiveScore\":0,\"score\":0,\"grade\":\"\"}\\n'\n"
     ]
    }
   ],
   "source": [
    "#raw json\n",
    "print(response.content)"
   ]
  },
  {
   "cell_type": "code",
   "execution_count": 13,
   "metadata": {},
   "outputs": [
    {
     "name": "stdout",
     "output_type": "stream",
     "text": [
      "date : 20200616\n",
      "state : SC\n",
      "positive : 19990\n",
      "negative : 247689\n",
      "pending : None\n",
      "hospitalizedCurrently : 571\n",
      "hospitalizedCumulative : 2055\n",
      "inIcuCurrently : None\n",
      "inIcuCumulative : None\n",
      "onVentilatorCurrently : None\n",
      "onVentilatorCumulative : None\n",
      "recovered : 9734\n",
      "dataQualityGrade : A\n",
      "lastUpdateEt : 6/15/2020 23:59\n",
      "dateModified : 2020-06-15T23:59:00Z\n",
      "checkTimeEt : 06/15 19:59\n",
      "death : 607\n",
      "hospitalized : 2055\n",
      "dateChecked : 2020-06-15T23:59:00Z\n",
      "totalTestsViral : 267679\n",
      "positiveTestsViral : 27086\n",
      "negativeTestsViral : 240593\n",
      "positiveCasesViral : 19990\n",
      "fips : 45\n",
      "positiveIncrease : 612\n",
      "negativeIncrease : 11510\n",
      "total : 267679\n",
      "totalTestResults : 267679\n",
      "totalTestResultsIncrease : 12122\n",
      "posNeg : 267679\n",
      "deathIncrease : 5\n",
      "hospitalizedIncrease : 67\n",
      "hash : 7633ce6fb38002bcbc0888acb1214f789e31adb9\n",
      "commercialScore : 0\n",
      "negativeRegularScore : 0\n",
      "negativeScore : 0\n",
      "positiveScore : 0\n",
      "score : 0\n",
      "grade : \n"
     ]
    }
   ],
   "source": [
    "for key, value in data.items():\n",
    "    print(key, \":\", value)"
   ]
  },
  {
   "cell_type": "code",
   "execution_count": 24,
   "metadata": {},
   "outputs": [],
   "source": [
    "json_string = json.dumps(data)\n",
    "p_data = json.loads(json_string)"
   ]
  },
  {
   "cell_type": "code",
   "execution_count": 25,
   "metadata": {},
   "outputs": [
    {
     "data": {
      "text/plain": [
       "{'date': 20200616,\n",
       " 'state': 'SC',\n",
       " 'positive': 19990,\n",
       " 'negative': 247689,\n",
       " 'pending': None,\n",
       " 'hospitalizedCurrently': 571,\n",
       " 'hospitalizedCumulative': 2055,\n",
       " 'inIcuCurrently': None,\n",
       " 'inIcuCumulative': None,\n",
       " 'onVentilatorCurrently': None,\n",
       " 'onVentilatorCumulative': None,\n",
       " 'recovered': 9734,\n",
       " 'dataQualityGrade': 'A',\n",
       " 'lastUpdateEt': '6/15/2020 23:59',\n",
       " 'dateModified': '2020-06-15T23:59:00Z',\n",
       " 'checkTimeEt': '06/15 19:59',\n",
       " 'death': 607,\n",
       " 'hospitalized': 2055,\n",
       " 'dateChecked': '2020-06-15T23:59:00Z',\n",
       " 'totalTestsViral': 267679,\n",
       " 'positiveTestsViral': 27086,\n",
       " 'negativeTestsViral': 240593,\n",
       " 'positiveCasesViral': 19990,\n",
       " 'fips': '45',\n",
       " 'positiveIncrease': 612,\n",
       " 'negativeIncrease': 11510,\n",
       " 'total': 267679,\n",
       " 'totalTestResults': 267679,\n",
       " 'totalTestResultsIncrease': 12122,\n",
       " 'posNeg': 267679,\n",
       " 'deathIncrease': 5,\n",
       " 'hospitalizedIncrease': 67,\n",
       " 'hash': '7633ce6fb38002bcbc0888acb1214f789e31adb9',\n",
       " 'commercialScore': 0,\n",
       " 'negativeRegularScore': 0,\n",
       " 'negativeScore': 0,\n",
       " 'positiveScore': 0,\n",
       " 'score': 0,\n",
       " 'grade': ''}"
      ]
     },
     "execution_count": 25,
     "metadata": {},
     "output_type": "execute_result"
    }
   ],
   "source": [
    "p_data"
   ]
  },
  {
   "cell_type": "code",
   "execution_count": 35,
   "metadata": {},
   "outputs": [],
   "source": [
    "response = requests.get(sc_api_url)\n",
    "sccovid = json.loads(response.text)"
   ]
  },
  {
   "cell_type": "code",
   "execution_count": 40,
   "metadata": {},
   "outputs": [
    {
     "name": "stdout",
     "output_type": "stream",
     "text": [
      "SC\n",
      "20200616\n",
      "612\n"
     ]
    }
   ],
   "source": [
    "print(sccovid[\"state\"])\n",
    "print(sccovid[\"date\"])\n",
    "print(sccovid[\"positiveIncrease\"])"
   ]
  },
  {
   "cell_type": "code",
   "execution_count": null,
   "metadata": {},
   "outputs": [],
   "source": [
    "coviddf = pd.read"
   ]
  }
 ],
 "metadata": {
  "kernelspec": {
   "display_name": "Python 3",
   "language": "python",
   "name": "python3"
  },
  "language_info": {
   "codemirror_mode": {
    "name": "ipython",
    "version": 3
   },
   "file_extension": ".py",
   "mimetype": "text/x-python",
   "name": "python",
   "nbconvert_exporter": "python",
   "pygments_lexer": "ipython3",
   "version": "3.6.5"
  }
 },
 "nbformat": 4,
 "nbformat_minor": 2
}
